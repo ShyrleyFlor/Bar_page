{
  "nbformat": 4,
  "nbformat_minor": 0,
  "metadata": {
    "colab": {
      "provenance": [],
      "authorship_tag": "ABX9TyNf8dIA0ytAA43nmxzT5mc0",
      "include_colab_link": true
    },
    "kernelspec": {
      "name": "python3",
      "display_name": "Python 3"
    },
    "language_info": {
      "name": "python"
    }
  },
  "cells": [
    {
      "cell_type": "markdown",
      "metadata": {
        "id": "view-in-github",
        "colab_type": "text"
      },
      "source": [
        "<a href=\"https://colab.research.google.com/github/ShyrleyFlor/Bar_page/blob/main/Mi_primera_IA.ipynb\" target=\"_parent\"><img src=\"https://colab.research.google.com/assets/colab-badge.svg\" alt=\"Open In Colab\"/></a>"
      ]
    },
    {
      "cell_type": "code",
      "execution_count": null,
      "metadata": {
        "id": "ihQFEsbk4VD0"
      },
      "outputs": [],
      "source": [
        "  #-----Importamos librerias----\n",
        "import tensorflow as tf\n",
        "import numpy as np\n",
        "import matplotlib.pyplot as plt"
      ]
    },
    {
      "cell_type": "code",
      "source": [
        "#----entrada: para evitar errores le datos el valor de tipo float\n",
        "entrada=np.array([-40,-10,0,8,15,22,38], dtype=float)"
      ],
      "metadata": {
        "id": "R416sLNA4fQ7"
      },
      "execution_count": null,
      "outputs": []
    },
    {
      "cell_type": "code",
      "source": [
        "#--salida: para evitar errores le datos el valor de tipo float\n",
        "resultados=np.array([-40,14,32,46,59,72,100], dtype=float)"
      ],
      "metadata": {
        "id": "e-ivrtum4gOQ"
      },
      "execution_count": null,
      "outputs": []
    },
    {
      "cell_type": "code",
      "source": [
        "#--Aparte de tensorflow tambien usamos keras que ya viene integrado a tensorflow\n",
        "#--lo usamos para hacer las redes neuronales simples\n",
        "\n",
        "#--creamos la red\n",
        "#Creamos una capa de tipo Densa esto quiere decir cada capa tiene conexion con todas las demas\n",
        "#Es decir todas las capas estan conectadas\n",
        "#Lo primero que hace es la unidad de la capa y esta solo tiene 1 neurona\n",
        "#En input_shape tambien decimos que tenemos una neurona con una entrada\n",
        "#Esto nos registra las capas con las neuronas\n",
        "capa1= tf.keras.layers.Dense(units=1, input_shape=[1])\n",
        "\n",
        "#Necesitamos aclarar el modelo en este caso usaremos la secuencial ya que es sencilla\n",
        "#Los otros modelos son para redes mas complejas\n",
        "#Le indicamos la capa que creamos\n",
        "modelo=tf.keras.Sequential(capa1)"
      ],
      "metadata": {
        "id": "gM4OEYRA4n6c"
      },
      "execution_count": null,
      "outputs": []
    },
    {
      "cell_type": "code",
      "source": [
        "#--Ahora le indicamos como entrenar\n",
        "modelo.compile(\n",
        "    #Esto le permite ajustar el peso y sesgo de forma eficiente para que no desaprenda\n",
        "    #El numero que le indicamos es la taza de aprendizaje\n",
        "    #Este numero le dice que tanto ajustar el peso y el sesgo\n",
        "    optimizer=tf.keras.optimizers.Adam(0.01),\n",
        "    # Para el error usaremos la funcion de error cuadratico medio\n",
        "    # Esto nos dice que una poca cantidad de errores es mejor que una gran cantidad de errores\n",
        "    loss= 'mean_squared_error'\n",
        ")\n"
      ],
      "metadata": {
        "id": "hrGjGWO04sF0"
      },
      "execution_count": null,
      "outputs": []
    },
    {
      "cell_type": "code",
      "source": [
        "#--vamos a entrenarlo\n",
        "print(\"Entrenando.....\")"
      ],
      "metadata": {
        "colab": {
          "base_uri": "https://localhost:8080/"
        },
        "id": "wsjPVxPl4vEX",
        "outputId": "11253e95-dbf4-439d-803e-c53371b8d795"
      },
      "execution_count": null,
      "outputs": [
        {
          "output_type": "stream",
          "name": "stdout",
          "text": [
            "Entrenando.....\n"
          ]
        }
      ]
    },
    {
      "cell_type": "code",
      "source": [
        "#Para esto usamos la funcion FIT y se indicamos las entradas y los resultados esperados\n",
        "#Tambien le indicamos cuantas veces o vueltas queremos que lo intente\n",
        "#1 vez significa revisar los 7 datos 1 vez\n",
        "#verbose= false para que no imprima cosas que no deseamos ver\n",
        "entrenamiento=modelo.fit(entrada, resultados, epochs=1000, verbose=False)"
      ],
      "metadata": {
        "id": "RvyTjQ154yvm"
      },
      "execution_count": null,
      "outputs": []
    },
    {
      "cell_type": "code",
      "source": [
        "#Guardar red\n",
        "modelo.save('redNeuronal_p1.h5')\n",
        "modelo.save_weights('pesos.h5')"
      ],
      "metadata": {
        "id": "GOKtPBoW43Xc"
      },
      "execution_count": null,
      "outputs": []
    },
    {
      "cell_type": "code",
      "source": [
        "#--vemos la funcion de perdida\n",
        "#esta funcion nos dice que tan mal esta nuestra red en cada vuelta\n",
        "plt.xlabel(\"Ciclos de entrenamiento\")\n",
        "plt.ylabel(\"Errores\")\n",
        "plt.plot(entrenamiento.history[\"loss\"])\n",
        "plt.show()\n",
        "\n",
        "#--Avisamos si ya se entreno o no\n",
        "print(\"Terminamos\")"
      ],
      "metadata": {
        "colab": {
          "base_uri": "https://localhost:8080/",
          "height": 467
        },
        "id": "r7lh3au74-IU",
        "outputId": "e4bdf5fe-b64c-44be-9776-2a79d892e5dd"
      },
      "execution_count": null,
      "outputs": [
        {
          "output_type": "display_data",
          "data": {
            "text/plain": [
              "<Figure size 640x480 with 1 Axes>"
            ],
            "image/png": "[encoded data removed]"
          },
          "metadata": {}
        },
        {
          "output_type": "stream",
          "name": "stdout",
          "text": [
            "Terminamos\n"
          ]
        }
      ]
    },
    {
      "cell_type": "code",
      "source": [
        "#Hacemos una prediccion\n",
        "print(\"Probemos\")\n",
        "resultado = modelo.predict([100])\n",
        "print(\"El resultado es \" +str(resultado) + \" Fahrenheit!\")"
      ],
      "metadata": {
        "id": "xFFCzxoV5DJ2",
        "outputId": "14792e55-738a-4937-8e47-b82bada66388",
        "colab": {
          "base_uri": "https://localhost:8080/"
        }
      },
      "execution_count": null,
      "outputs": [
        {
          "output_type": "stream",
          "name": "stdout",
          "text": [
            "Probemos\n",
            "1/1 [==============================] - 0s 61ms/step\n",
            "El resultado es [[208.23389]] Fahrenheit!\n"
          ]
        }
      ]
    }
  ]
}